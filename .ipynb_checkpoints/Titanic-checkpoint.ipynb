{
 "cells": [
  {
   "cell_type": "markdown",
   "metadata": {},
   "source": [
    "## Задание\n",
    "* С использованием библиотеки pandas загрузить данные из файла TitanicTrain.csv\n",
    "* Описание данных: https://www.kaggle.com/c/titanic/data\n",
    "* Выбрать признаки для обучения модели (возраст, пол, ...)\n",
    "* Разделить выборку на train и test\n",
    "\n",
    "В качестве метрики будем использоваться AUC: \n",
    "- https://ru.wikipedia.org/wiki/ROC-%D0%BA%D1%80%D0%B8%D0%B2%D0%B0%D1%8F\n",
    "- http://scikit-learn.org/stable/modules/generated/sklearn.metrics.roc_auc_score.html"
   ]
  },
  {
   "cell_type": "code",
   "execution_count": 7,
   "metadata": {
    "collapsed": true
   },
   "outputs": [],
   "source": [
    "import matplotlib as plt\n",
    "import numpy as np\n",
    "import pandas as pd"
   ]
  },
  {
   "cell_type": "code",
   "execution_count": 8,
   "metadata": {
    "collapsed": false
   },
   "outputs": [],
   "source": [
    "from sklearn.cross_validation import train_test_split\n",
    "from sklearn.feature_selection import SelectKBest\n",
    "from sklearn.feature_selection import chi2\n",
    "from sklearn.grid_search import GridSearchCV\n",
    "from sklearn.metrics import roc_auc_score\n",
    "from sklearn.svm import SVC"
   ]
  },
  {
   "cell_type": "markdown",
   "metadata": {},
   "source": [
    "## Чтение и подготовка данных"
   ]
  },
  {
   "cell_type": "code",
   "execution_count": 9,
   "metadata": {
    "collapsed": false
   },
   "outputs": [],
   "source": [
    "data = pd.read_csv('TitanicTrain.csv')\n",
    "\n",
    "categorial_features = [feature for feature in data.columns if data[feature].dtype.name == 'object']\n",
    "numerical_features = [feature for feature in data.columns if data[feature].dtype.name != 'object']\n",
    "\n",
    "# Заполнение пропущенных количественных признаков средними по признаку\n",
    "data[numerical_features] = data[numerical_features].fillna(data[numerical_features].median(axis=0), axis=0)\n",
    "\n",
    "# Заполнение пропущенных категориальных признаков наиболее часто встречающимися\n",
    "describe = data.describe(include=[object])\n",
    "\n",
    "for feature in categorial_features:\n",
    "    data[feature] = data[feature].fillna(describe[feature]['top'])\n",
    "    \n",
    "# Разделение категориальных признаков на бинарные и небинарные\n",
    "binary_features = [feature for feature in data[categorial_features] if describe[feature]['unique'] == 2]\n",
    "nonbinary_features = [feature for feature in data[categorial_features] if describe[feature]['unique'] > 2]\n",
    "\n",
    "describe = data.describe(include=[object])\n",
    "\n",
    "# Заполнение бинарных признаков\n",
    "for feature in binary_features:\n",
    "    top = describe[feature]['top']\n",
    "    \n",
    "    top_items = data[feature] == top\n",
    "    \n",
    "    data.loc[top_items, feature] = 0\n",
    "    data.loc[np.logical_not(top_items), feature] = 1\n",
    "    \n",
    "# Превращение небинарных признаков в бинарные (например, для признака A in {0, 1, 2} => A_0, A_1, A_2)\n",
    "nonbinary_data = pd.get_dummies(data[nonbinary_features])\n",
    "\n",
    "# Объединение в один датафрейм\n",
    "data = pd.concat((data[numerical_features], data[binary_features], nonbinary_data), axis=1)\n",
    "\n",
    "data = pd.DataFrame(data, dtype=float)"
   ]
  },
  {
   "cell_type": "markdown",
   "metadata": {},
   "source": [
    "## Выделение входных и выходных признаков, разбиение данных"
   ]
  },
  {
   "cell_type": "code",
   "execution_count": 10,
   "metadata": {
    "collapsed": false
   },
   "outputs": [],
   "source": [
    "out_features = data['Survived']\n",
    "\n",
    "in_features = data.drop(('Survived'), axis=1)\n",
    "in_features = SelectKBest(chi2, k=3).fit_transform(in_features, out_features)\n",
    "\n",
    "in_train, in_test, out_train, out_test = train_test_split(in_features, out_features, test_size=0.3)"
   ]
  },
  {
   "cell_type": "markdown",
   "metadata": {},
   "source": [
    "## Обучение модели"
   ]
  },
  {
   "cell_type": "code",
   "execution_count": 11,
   "metadata": {
    "collapsed": false
   },
   "outputs": [
    {
     "data": {
      "text/plain": [
       "SVC(C=1.0, cache_size=200, class_weight=None, coef0=0.0,\n",
       "  decision_function_shape=None, degree=3, gamma='auto', kernel='rbf',\n",
       "  max_iter=-1, probability=False, random_state=None, shrinking=True,\n",
       "  tol=0.001, verbose=False)"
      ]
     },
     "execution_count": 11,
     "metadata": {},
     "output_type": "execute_result"
    }
   ],
   "source": [
    "classifier = SVC(kernel='rbf')\n",
    "\n",
    "classifier.fit(in_train, out_train)"
   ]
  },
  {
   "cell_type": "markdown",
   "metadata": {},
   "source": [
    "## Оценка ошибки перекрестного контроля"
   ]
  },
  {
   "cell_type": "code",
   "execution_count": 12,
   "metadata": {
    "collapsed": true
   },
   "outputs": [],
   "source": [
    "# Предсказание на тестовой и обучающей выборках\n",
    "out_train_predict = classifier.predict(in_train)\n",
    "out_test_predict = classifier.predict(in_test)"
   ]
  },
  {
   "cell_type": "markdown",
   "metadata": {},
   "source": [
    "### Средняя ошибка перекрестного контроля"
   ]
  },
  {
   "cell_type": "code",
   "execution_count": 13,
   "metadata": {
    "collapsed": false
   },
   "outputs": [
    {
     "name": "stdout",
     "output_type": "stream",
     "text": [
      "Обучающая выборка: 0.149277688604, тестовая выборка: 0.194029850746\n"
     ]
    }
   ],
   "source": [
    "err_mean_train = np.mean(out_train != out_train_predict)\n",
    "err_mean_test  = np.mean(out_test  != out_test_predict)\n",
    "\n",
    "print('Обучающая выборка: ', err_mean_train, ', тестовая выборка: ', err_mean_test, sep='')"
   ]
  },
  {
   "cell_type": "markdown",
   "metadata": {},
   "source": [
    "### Оценка качества предсказания метрике AUC"
   ]
  },
  {
   "cell_type": "code",
   "execution_count": 14,
   "metadata": {
    "collapsed": false
   },
   "outputs": [
    {
     "name": "stdout",
     "output_type": "stream",
     "text": [
      "Обучающая выборка: 0.836153896287, тестовая выборка: 0.785616885042\n"
     ]
    }
   ],
   "source": [
    "auc_train = roc_auc_score(out_train, out_train_predict)\n",
    "auc_test = roc_auc_score(out_test, out_test_predict)\n",
    "\n",
    "print('Обучающая выборка: ', auc_train, ', тестовая выборка: ', auc_test, sep='')"
   ]
  }
 ],
 "metadata": {
  "kernelspec": {
   "display_name": "Python 3",
   "language": "python",
   "name": "python3"
  },
  "language_info": {
   "codemirror_mode": {
    "name": "ipython",
    "version": 3
   },
   "file_extension": ".py",
   "mimetype": "text/x-python",
   "name": "python",
   "nbconvert_exporter": "python",
   "pygments_lexer": "ipython3",
   "version": "3.5.1"
  }
 },
 "nbformat": 4,
 "nbformat_minor": 0
}
